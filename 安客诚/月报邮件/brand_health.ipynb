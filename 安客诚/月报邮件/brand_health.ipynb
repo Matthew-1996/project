{
 "cells": [
  {
   "cell_type": "markdown",
   "metadata": {},
   "source": [
    "# brand health\n",
    "首先把Brand Health EXCEL表中的man和hair表另存为两张txt（utf-8）"
   ]
  },
  {
   "cell_type": "code",
   "execution_count": 1,
   "metadata": {
    "scrolled": false
   },
   "outputs": [
    {
     "data": {
      "text/html": [
       "<button onclick=\"$('.input, .prompt, .output_stderr, .output_error, .output_result').toggle();\">Toggle Code</button>\n"
      ],
      "text/plain": [
       "<IPython.core.display.HTML object>"
      ]
     },
     "metadata": {},
     "output_type": "display_data"
    }
   ],
   "source": [
    "%%HTML\n",
    "<button onclick=\"$('.input, .prompt, .output_stderr, .output_error, .output_result').toggle();\">Toggle Code</button>"
   ]
  },
  {
   "cell_type": "code",
   "execution_count": 2,
   "metadata": {},
   "outputs": [],
   "source": [
    "#先整合好表格，输出月报的内容，再去word改格式\n",
    "#-*- coding:utf-8 -*-\n",
    "import pandas as pd"
   ]
  },
  {
   "cell_type": "code",
   "execution_count": 3,
   "metadata": {
    "scrolled": true
   },
   "outputs": [],
   "source": [
    "filename1 = 'Brand Health Checking Report_ Men_202008.txt'\n",
    "filename2 = 'Brand Health Checking Report_ Hair_202008.txt'\n",
    "brand_health1 = pd.read_table(filename1, skiprows = 4)\n",
    "brand_health2 = pd.read_table(filename2, skiprows = 4)\n",
    "#skiprows = 4，删除前四行\n",
    "brand_health1.drop(brand_health1.columns[0], axis=1, inplace=True)\n",
    "brand_health2.drop(brand_health2.columns[0], axis=1, inplace=True)  \n",
    "#删除第一列"
   ]
  },
  {
   "cell_type": "code",
   "execution_count": 4,
   "metadata": {},
   "outputs": [
    {
     "name": "stdout",
     "output_type": "stream",
     "text": [
      "\n",
      "MAN_R12\n",
      "Total Purchaser 4,773K (+-1% vs L R12). New Purchaser 3,160K (+-11% vs L R12), 66% of total Purchaser.\n",
      "Avg.age: 28\n",
      "New repeat rate 16%, +-1% vs L R12.\n",
      "Retention rate 16%, +-2% vs L R12.\n",
      "ATV 90 RMB, +16% vs L R12.\n",
      "Annual Frequency 1.20, +-2% vs L R12.\n",
      "\n",
      "MAN_YTD\n",
      "Total Purchaser 2,807K (+-9% vs LY). New Purchaser 1,746K (+-19% vs LY), 62% of total Purchaser.\n",
      "Avg.age: 28\n",
      "New repeat rate 12%, +-1% vs LY.\n",
      "Retention rate 10%, +-2% vs LY.\n",
      "ATV 93 RMB, +21% vs LY.\n",
      "Annual Frequency 1.13, +-3% vs LY.\n",
      "\n",
      "HAIR_R12\n",
      "Total Purchaser 2,963K (+27% vs L R12). New Purchaser 1,656K (+6% vs L R12), 56% of total Purchaser.\n",
      "Avg.age: 31\n",
      "New repeat rate 24%, +4% vs L R12.\n",
      "Retention rate 17%, +0% vs L R12.\n",
      "ATV 105 RMB, +17% vs L R12.\n",
      "Annual Frequency 1.21, +3% vs L R12.\n",
      "\n",
      "HAIR_YTD\n",
      "Total Purchaser 1,894K (+20% vs LY). New Purchaser 986K (+-3% vs LY), 52% of total Purchaser.\n",
      "Avg.age: 32\n",
      "New repeat rate 20%, +4% vs LY.\n",
      "Retention rate 11%, +0% vs LY.\n",
      "ATV 109 RMB, +21% vs LY.\n",
      "Annual Frequency 1.17, +5% vs LY.\n"
     ]
    }
   ],
   "source": [
    "man_r121 = brand_health1.loc[5]['Men']\n",
    "man_r122 = brand_health1.loc[5]['Evol%']\n",
    "man_r123 = brand_health1.loc[12]['Men']\n",
    "man_r124 = brand_health1.loc[12]['Evol%']\n",
    "man_r125 = brand_health1.loc[13]['Men']\n",
    "man_r126 = brand_health1.loc[26]['Men']\n",
    "man_r127 = brand_health1.loc[18]['Men']\n",
    "man_r128 = brand_health1.loc[18]['Evol%']\n",
    "man_r129 = brand_health1.loc[24]['Men']\n",
    "man_r1210 = brand_health1.loc[24]['Evol%']\n",
    "man_r1211 = brand_health1.loc[9]['Men']\n",
    "man_r1212 = brand_health1.loc[9]['Evol%']\n",
    "man_r1213 = brand_health1.loc[11]['Men']\n",
    "man_r1214 = brand_health1.loc[11]['Evol%']\n",
    "\n",
    "man_ytd1 = brand_health1.loc[5]['Men.1']\n",
    "man_ytd2 = brand_health1.loc[5]['Evol%.1']\n",
    "man_ytd3 = brand_health1.loc[12]['Men.1']\n",
    "man_ytd4 = brand_health1.loc[12]['Evol%.1']\n",
    "man_ytd5 = brand_health1.loc[13]['Men.1']\n",
    "man_ytd6 = brand_health1.loc[26]['Men.1']\n",
    "man_ytd7 = brand_health1.loc[18]['Men.1']\n",
    "man_ytd8 = brand_health1.loc[18]['Evol%.1']\n",
    "man_ytd9 = brand_health1.loc[24]['Men.1']\n",
    "man_ytd10 = brand_health1.loc[24]['Evol%.1']\n",
    "man_ytd11 = brand_health1.loc[9]['Men.1']\n",
    "man_ytd12 = brand_health1.loc[9]['Evol%.1']\n",
    "man_ytd13 = brand_health1.loc[11]['Men.1']\n",
    "man_ytd14 = brand_health1.loc[11]['Evol%.1']\n",
    "\n",
    "hair_r121 = brand_health2.loc[5]['Hair']\n",
    "hair_r122 = brand_health2.loc[5]['Evol%']\n",
    "hair_r123 = brand_health2.loc[12]['Hair']\n",
    "hair_r124 = brand_health2.loc[12]['Evol%']\n",
    "hair_r125 = brand_health2.loc[13]['Hair']\n",
    "hair_r126 = brand_health2.loc[26]['Hair']\n",
    "hair_r127 = brand_health2.loc[18]['Hair']\n",
    "hair_r128 = brand_health2.loc[18]['Evol%']\n",
    "hair_r129 = brand_health2.loc[24]['Hair']\n",
    "hair_r1210 = brand_health2.loc[24]['Evol%']\n",
    "hair_r1211 = brand_health2.loc[9]['Hair']\n",
    "hair_r1212 = brand_health2.loc[9]['Evol%']\n",
    "hair_r1213 = brand_health2.loc[11]['Hair']\n",
    "hair_r1214 = brand_health2.loc[11]['Evol%']\n",
    "\n",
    "hair_ytd1 = brand_health2.loc[5]['Hair.1']\n",
    "hair_ytd2 = brand_health2.loc[5]['Evol%.1']\n",
    "hair_ytd3 = brand_health2.loc[12]['Hair.1']\n",
    "hair_ytd4 = brand_health2.loc[12]['Evol%.1']\n",
    "hair_ytd5 = brand_health2.loc[13]['Hair.1']\n",
    "hair_ytd6 = brand_health2.loc[26]['Hair.1']\n",
    "hair_ytd7 = brand_health2.loc[18]['Hair.1']\n",
    "hair_ytd8 = brand_health2.loc[18]['Evol%.1']\n",
    "hair_ytd9 = brand_health2.loc[24]['Hair.1']\n",
    "hair_ytd10 = brand_health2.loc[24]['Evol%.1']\n",
    "hair_ytd11 = brand_health2.loc[9]['Hair.1']\n",
    "hair_ytd12 = brand_health2.loc[9]['Evol%.1']\n",
    "hair_ytd13 = brand_health2.loc[11]['Hair.1']\n",
    "hair_ytd14 = brand_health2.loc[11]['Evol%.1']\n",
    "\n",
    "man_r12_list = []\n",
    "man_ytd_list = []\n",
    "hair_r12_list = []\n",
    "hair_ytd_list = []\n",
    "for i in range(1,15):\n",
    "    a = 'man_r12' + str(i)\n",
    "    b = 'man_ytd' + str(i)\n",
    "    c = 'hair_r12' + str(i)\n",
    "    d = 'hair_ytd' + str(i)\n",
    "    a = eval(a)\n",
    "    b = eval(b)\n",
    "    c = eval(c)\n",
    "    d = eval(d)\n",
    "    man_r12_list.append(a)\n",
    "    man_ytd_list.append(b)\n",
    "    hair_r12_list.append(c)\n",
    "    hair_ytd_list.append(d)\n",
    "\n",
    "#把取出的数加入list\n",
    "\n",
    "print('\\nMAN_R12\\nTotal Purchaser {0[0]}K (+{0[1]} vs L R12). New Purchaser {0[2]}K (+{0[3]} vs L R12), {0[4]} of total Purchaser.'.format(man_r12_list))\n",
    "print('Avg.age: {0[5]}'.format(man_r12_list))\n",
    "print('New repeat rate {0[6]}, +{0[7]} vs L R12.'.format(man_r12_list))\n",
    "print('Retention rate {0[8]}, +{0[9]} vs L R12.'.format(man_r12_list))\n",
    "print('ATV {0[10]} RMB, +{0[11]} vs L R12.'.format(man_r12_list))\n",
    "print('Annual Frequency {0[12]}, +{0[13]} vs L R12.'.format(man_r12_list))\n",
    "\n",
    "print('\\nMAN_YTD\\nTotal Purchaser {0[0]}K (+{0[1]} vs LY). New Purchaser {0[2]}K (+{0[3]} vs LY), {0[4]} of total Purchaser.\\nAvg.age: {0[5]}\\nNew repeat rate {0[6]}, +{0[7]} vs LY.\\nRetention rate {0[8]}, +{0[9]} vs LY.\\nATV {0[10]} RMB, +{0[11]} vs LY.\\nAnnual Frequency {0[12]}, +{0[13]} vs LY.'.format(man_ytd_list))\n",
    "  \n",
    "print('\\nHAIR_R12\\nTotal Purchaser {0[0]}K (+{0[1]} vs L R12). New Purchaser {0[2]}K (+{0[3]} vs L R12), {0[4]} of total Purchaser.\\nAvg.age: {0[5]}\\nNew repeat rate {0[6]}, +{0[7]} vs L R12.\\nRetention rate {0[8]}, +{0[9]} vs L R12.\\nATV {0[10]} RMB, +{0[11]} vs L R12.\\nAnnual Frequency {0[12]}, +{0[13]} vs L R12.'.format(hair_r12_list))\n",
    "\n",
    "print('\\nHAIR_YTD\\nTotal Purchaser {0[0]}K (+{0[1]} vs LY). New Purchaser {0[2]}K (+{0[3]} vs LY), {0[4]} of total Purchaser.\\nAvg.age: {0[5]}\\nNew repeat rate {0[6]}, +{0[7]} vs LY.\\nRetention rate {0[8]}, +{0[9]} vs LY.\\nATV {0[10]} RMB, +{0[11]} vs LY.\\nAnnual Frequency {0[12]}, +{0[13]} vs LY.'.format(hair_ytd_list))"
   ]
  },
  {
   "cell_type": "markdown",
   "metadata": {},
   "source": [
    "最后要注意筛选出+-20%这样的形式改成-20%,还有+0%改成0%，更改年月"
   ]
  },
  {
   "cell_type": "markdown",
   "metadata": {},
   "source": [
    "注意报告日期更改和辅助表格隐藏"
   ]
  },
  {
   "cell_type": "code",
   "execution_count": null,
   "metadata": {},
   "outputs": [],
   "source": []
  }
 ],
 "metadata": {
  "kernelspec": {
   "display_name": "Python 3",
   "language": "python",
   "name": "python3"
  },
  "language_info": {
   "codemirror_mode": {
    "name": "ipython",
    "version": 3
   },
   "file_extension": ".py",
   "mimetype": "text/x-python",
   "name": "python",
   "nbconvert_exporter": "python",
   "pygments_lexer": "ipython3",
   "version": "3.7.6"
  }
 },
 "nbformat": 4,
 "nbformat_minor": 4
}
