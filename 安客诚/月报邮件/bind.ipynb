{
 "cells": [
  {
   "cell_type": "markdown",
   "metadata": {},
   "source": [
    "# bind\n",
    "先整理表格，汇入bind整理表中，再保存为txt（utf-8）"
   ]
  },
  {
   "cell_type": "code",
   "execution_count": 1,
   "metadata": {},
   "outputs": [
    {
     "data": {
      "text/html": [
       "<button onclick=\"$('.input, .prompt, .output_stderr, .output_error, .output_result').toggle();\">Toggle Code</button>\n"
      ],
      "text/plain": [
       "<IPython.core.display.HTML object>"
      ]
     },
     "metadata": {},
     "output_type": "display_data"
    }
   ],
   "source": [
    "%%HTML\n",
    "<button onclick=\"$('.input, .prompt, .output_stderr, .output_error, .output_result').toggle();\">Toggle Code</button>"
   ]
  },
  {
   "cell_type": "code",
   "execution_count": 2,
   "metadata": {},
   "outputs": [],
   "source": [
    "#先整合好表格，输出月报的内容，再去word改格式\n",
    "#-*- coding:utf-8 -*-\n",
    "import pandas as pd"
   ]
  },
  {
   "cell_type": "code",
   "execution_count": 3,
   "metadata": {},
   "outputs": [],
   "source": [
    "filename = 'bind改.txt'\n",
    "bind = pd.read_table(filename)"
   ]
  },
  {
   "cell_type": "code",
   "execution_count": 4,
   "metadata": {},
   "outputs": [],
   "source": [
    "man_MTD1 = bind.loc[0]['man当月人数']\n",
    "man_MTD2 = bind.loc[0]['man去年占比']\n",
    "man_MTD3 = bind.loc[1]['man当月人数']\n",
    "man_MTD4 = bind.loc[1]['man去年占比']\n",
    "man_MTD5 = bind.loc[24]['man当月人数']\n",
    "man_MTD6 = bind.loc[24]['man去年占比']\n",
    "man_MTD7 = bind.loc[25]['man当月人数']\n",
    "man_MTD8 = bind.loc[25]['man去年占比']\n",
    "\n",
    "man_R121 = bind.loc[0]['manR12人数']\n",
    "man_R122 = bind.loc[0]['manR12_L占比']\n",
    "man_R123 = bind.loc[1]['manR12人数']\n",
    "man_R124 = bind.loc[1]['manR12_L占比']\n",
    "man_R125 = bind.loc[24]['manR12人数']\n",
    "man_R126 = bind.loc[24]['manR12_L占比']\n",
    "man_R127 = bind.loc[25]['manR12人数']\n",
    "man_R128 = bind.loc[25]['manR12_L占比']\n",
    "\n",
    "man_YTD1 = bind.loc[0]['manYTD人数']\n",
    "man_YTD2 = bind.loc[0]['manYTD_L占比']\n",
    "man_YTD3 = bind.loc[1]['manYTD人数']\n",
    "man_YTD4 = bind.loc[1]['manYTD_L占比']\n",
    "man_YTD5 = bind.loc[24]['manYTD人数']\n",
    "man_YTD6 = bind.loc[24]['manYTD_L占比']\n",
    "man_YTD7 = bind.loc[25]['manYTD人数']\n",
    "man_YTD8 = bind.loc[25]['manYTD_L占比']\n",
    "\n",
    "hair_MTD1 = bind.loc[0]['hair当月人数']\n",
    "hair_MTD2 = bind.loc[0]['hair去年占比']\n",
    "hair_MTD3 = bind.loc[1]['hair当月人数']\n",
    "hair_MTD4 = bind.loc[1]['hair去年占比']\n",
    "hair_MTD5 = bind.loc[24]['hair当月人数']\n",
    "hair_MTD6 = bind.loc[24]['hair去年占比']\n",
    "hair_MTD7 = bind.loc[25]['hair当月人数']\n",
    "hair_MTD8 = bind.loc[25]['hair去年占比']\n",
    "\n",
    "hair_R121 = bind.loc[0]['hairR12人数']\n",
    "hair_R122 = bind.loc[0]['hairR12_L占比']\n",
    "hair_R123 = bind.loc[1]['hairR12人数']\n",
    "hair_R124 = bind.loc[1]['hairR12_L占比']\n",
    "hair_R125 = bind.loc[24]['hairR12人数']\n",
    "hair_R126 = bind.loc[24]['hairR12_L占比']\n",
    "hair_R127 = bind.loc[25]['hairR12人数']\n",
    "hair_R128 = bind.loc[25]['hairR12_L占比']\n",
    "\n",
    "hair_YTD1 = bind.loc[0]['hairYTD人数']\n",
    "hair_YTD2 = bind.loc[0]['hairYTD_L占比']\n",
    "hair_YTD3 = bind.loc[1]['hairYTD人数']\n",
    "hair_YTD4 = bind.loc[1]['hairYTD_L占比']\n",
    "hair_YTD5 = bind.loc[24]['hairYTD人数']\n",
    "hair_YTD6 = bind.loc[24]['hairYTD_L占比']\n",
    "hair_YTD7 = bind.loc[25]['hairYTD人数']\n",
    "hair_YTD8 = bind.loc[25]['hairYTD_L占比']"
   ]
  },
  {
   "cell_type": "code",
   "execution_count": 5,
   "metadata": {},
   "outputs": [
    {
     "name": "stdout",
     "output_type": "stream",
     "text": [
      "TTL New Binding   81,448 (+-14.7% vs 2019 May)，New Binding Purchaser 49,642 (+-12.6% vs 2019 May).\n",
      "TTL Binding rate 22% (+3.2% vs 2019 May)，New Binding rate 13% (+-0.1% vs 2019 May).\n",
      "TTL New Binding   1,114,610 (+39.2% vs L R12)，New Binding Purchaser 735,841 (+26.0% vs L R12).\n",
      "TTL Binding rate 20% (+5.5% vs L R12)，New Binding rate 15% (+3.3% vs L R12).\n",
      "TTL New Binding   644,264 (+35.7% vs L YTD)，New Binding Purchaser 406,786 (+21.1% vs L YTD).\n",
      "TTL Binding rate 21% (+6.2% vs L YTD)，New Binding rate 14% (+3.6% vs L YTD).\n",
      "TTL New Binding   120,717 (+36.7% vs 2019 May)，New Binding Purchaser 41,493 (+-9.7% vs 2019 May).\n",
      "TTL Binding rate 26% (+1.4% vs 2019 May)，New Binding rate 15% (+-5.0% vs 2019 May).\n",
      "TTL New Binding   1,360,102 (+221.7% vs L R12)，New Binding Purchaser 607,714 (+120.3% vs L R12).\n",
      "TTL Binding rate 24% (+10.5% vs L R12)，New Binding rate 21% (+8.7% vs L R12).\n",
      "TTL New Binding   959,516 (+217.1% vs L YTD)，New Binding Purchaser 367,501 (+93.2% vs L YTD).\n",
      "TTL Binding rate 25% (+10.6% vs L YTD)，New Binding rate 19% (+7.3% vs L YTD).\n"
     ]
    }
   ],
   "source": [
    "man_MTD_list = [man_MTD1, man_MTD2, man_MTD3, man_MTD4, man_MTD5, man_MTD6, man_MTD7, man_MTD8]\n",
    "print('TTL New Binding   {0[0]} (+{0[1]} vs 2019 May)，New Binding Purchaser {0[2]} (+{0[3]} vs 2019 May).'.format(man_MTD_list))\n",
    "print('TTL Binding rate {0[4]} (+{0[5]} vs 2019 May)，New Binding rate {0[6]} (+{0[7]} vs 2019 May).'.format(man_MTD_list))\n",
    "man_R12_list = [man_R121, man_R122, man_R123, man_R124, man_R125, man_R126, man_R127, man_R128]\n",
    "print('TTL New Binding   {0[0]} (+{0[1]} vs L R12)，New Binding Purchaser {0[2]} (+{0[3]} vs L R12).'.format(man_R12_list))\n",
    "print('TTL Binding rate {0[4]} (+{0[5]} vs L R12)，New Binding rate {0[6]} (+{0[7]} vs L R12).'.format(man_R12_list))\n",
    "man_YTD_list = [man_YTD1, man_YTD2, man_YTD3, man_YTD4, man_YTD5, man_YTD6, man_YTD7, man_YTD8]\n",
    "print('TTL New Binding   {0[0]} (+{0[1]} vs L YTD)，New Binding Purchaser {0[2]} (+{0[3]} vs L YTD).'.format(man_YTD_list))\n",
    "print('TTL Binding rate {0[4]} (+{0[5]} vs L YTD)，New Binding rate {0[6]} (+{0[7]} vs L YTD).'.format(man_YTD_list))\n",
    "hair_MTD_list = [hair_MTD1, hair_MTD2, hair_MTD3, hair_MTD4, hair_MTD5, hair_MTD6, hair_MTD7, hair_MTD8]\n",
    "print('TTL New Binding   {0[0]} (+{0[1]} vs 2019 May)，New Binding Purchaser {0[2]} (+{0[3]} vs 2019 May).'.format(hair_MTD_list))\n",
    "print('TTL Binding rate {0[4]} (+{0[5]} vs 2019 May)，New Binding rate {0[6]} (+{0[7]} vs 2019 May).'.format(hair_MTD_list))\n",
    "hair_R12_list = [hair_R121, hair_R122, hair_R123, hair_R124, hair_R125, hair_R126, hair_R127, hair_R128]\n",
    "print('TTL New Binding   {0[0]} (+{0[1]} vs L R12)，New Binding Purchaser {0[2]} (+{0[3]} vs L R12).'.format(hair_R12_list))\n",
    "print('TTL Binding rate {0[4]} (+{0[5]} vs L R12)，New Binding rate {0[6]} (+{0[7]} vs L R12).'.format(hair_R12_list))\n",
    "hair_YTD_list = [hair_YTD1, hair_YTD2, hair_YTD3, hair_YTD4, hair_YTD5, hair_YTD6, hair_YTD7, hair_YTD8]\n",
    "print('TTL New Binding   {0[0]} (+{0[1]} vs L YTD)，New Binding Purchaser {0[2]} (+{0[3]} vs L YTD).'.format(hair_YTD_list))\n",
    "print('TTL Binding rate {0[4]} (+{0[5]} vs L YTD)，New Binding rate {0[6]} (+{0[7]} vs L YTD).'.format(hair_YTD_list))\n"
   ]
  },
  {
   "cell_type": "markdown",
   "metadata": {},
   "source": [
    "最后要注意筛选出+-20%这样的形式改成-20%,还有+0%改成0%，更改年月"
   ]
  }
 ],
 "metadata": {
  "kernelspec": {
   "display_name": "Python 3",
   "language": "python",
   "name": "python3"
  },
  "language_info": {
   "codemirror_mode": {
    "name": "ipython",
    "version": 3
   },
   "file_extension": ".py",
   "mimetype": "text/x-python",
   "name": "python",
   "nbconvert_exporter": "python",
   "pygments_lexer": "ipython3",
   "version": "3.7.6"
  }
 },
 "nbformat": 4,
 "nbformat_minor": 4
}
